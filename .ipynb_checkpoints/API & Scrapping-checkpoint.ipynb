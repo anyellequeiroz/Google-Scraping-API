{
 "cells": [
  {
   "cell_type": "markdown",
   "id": "6122bfa1",
   "metadata": {
    "heading_collapsed": true
   },
   "source": [
    "# API"
   ]
  },
  {
   "cell_type": "code",
   "execution_count": 1,
   "id": "1cf13f65",
   "metadata": {
    "hidden": true
   },
   "outputs": [],
   "source": [
    "import requests\n",
    "import pandas as pd\n",
    "\n",
    "# Colocar os dados da cidade que quer\n",
    "lat = -9.22460\n",
    "lon = -50.88174\n",
    "\n",
    "# Tirar o comentário da opção que quer\n",
    "#op = 'arquitetura'\n",
    "op = 'construtora'\n",
    "\n",
    "list_urls = []\n",
    "\n",
    "for i in range(0, 2000, 20):\n",
    "    url = f\"https://serpapi.com/search.json?engine=google_maps&q={op}&ll=@{lat},{lon},14z&start={i}&type=search&api_key=e91e1bf1bb0282b3e5c4b2839868258b2114cef04d88cca28ec4fa04c96f72d6\"\n",
    "    list_urls.append(url)"
   ]
  },
  {
   "cell_type": "code",
   "execution_count": 6,
   "id": "3751e25e",
   "metadata": {
    "hidden": true
   },
   "outputs": [],
   "source": [
    "for x in range(0, 99):\n",
    "    globals()['response%s' % x] = (requests.get(list_urls[x]).json())"
   ]
  },
  {
   "cell_type": "code",
   "execution_count": 23,
   "id": "b966038e",
   "metadata": {
    "hidden": true
   },
   "outputs": [],
   "source": [
    "d0 = pd.DataFrame(response0['local_results'])\n",
    "d1 = pd.DataFrame(response1['local_results'])\n",
    "d2 = pd.DataFrame(response2['local_results'])\n",
    "d3 = pd.DataFrame(response3['local_results'])\n",
    "d4 = pd.DataFrame(response4['local_results'])\n",
    "d5 = pd.DataFrame(response5['local_results'])\n",
    "d6 = pd.DataFrame(response6['local_results'])\n",
    "d7 = pd.DataFrame(response7['local_results'])\n",
    "d8 = pd.DataFrame(response8['local_results'])\n",
    "d9 = pd.DataFrame(response9['local_results'])\n",
    "d10 = pd.DataFrame(response10['local_results'])\n",
    "d11 = pd.DataFrame(response11['local_results'])\n",
    "d12 = pd.DataFrame(response12['local_results'])\n",
    "d13 = pd.DataFrame(response13['local_results'])\n",
    "d14 = pd.DataFrame(response14['local_results'])\n",
    "d15 = pd.DataFrame(response15['local_results'])\n",
    "d16 = pd.DataFrame(response16['local_results'])\n"
   ]
  },
  {
   "cell_type": "code",
   "execution_count": 27,
   "id": "3e30c0ed",
   "metadata": {
    "hidden": true
   },
   "outputs": [
    {
     "data": {
      "text/html": [
       "<div>\n",
       "<style scoped>\n",
       "    .dataframe tbody tr th:only-of-type {\n",
       "        vertical-align: middle;\n",
       "    }\n",
       "\n",
       "    .dataframe tbody tr th {\n",
       "        vertical-align: top;\n",
       "    }\n",
       "\n",
       "    .dataframe thead th {\n",
       "        text-align: right;\n",
       "    }\n",
       "</style>\n",
       "<table border=\"1\" class=\"dataframe\">\n",
       "  <thead>\n",
       "    <tr style=\"text-align: right;\">\n",
       "      <th></th>\n",
       "      <th>title</th>\n",
       "      <th>rating</th>\n",
       "      <th>reviews</th>\n",
       "      <th>type</th>\n",
       "      <th>address</th>\n",
       "      <th>operating_hours</th>\n",
       "      <th>phone</th>\n",
       "      <th>website</th>\n",
       "      <th>user_review</th>\n",
       "    </tr>\n",
       "  </thead>\n",
       "  <tbody>\n",
       "    <tr>\n",
       "      <th>0</th>\n",
       "      <td>Conscious Construction and Incorporated</td>\n",
       "      <td>4.7</td>\n",
       "      <td>185.0</td>\n",
       "      <td>Construction company</td>\n",
       "      <td>Av. T-2 com T-55 Qd.99 Lt.09, St. Bueno, Goiân...</td>\n",
       "      <td>{'friday': '8AM–7PM', 'saturday': '8AM–7PM', '...</td>\n",
       "      <td>+55 62 3086-5000</td>\n",
       "      <td>http://consciente.com.br/</td>\n",
       "      <td>NaN</td>\n",
       "    </tr>\n",
       "    <tr>\n",
       "      <th>1</th>\n",
       "      <td>Pernambuco Construtora</td>\n",
       "      <td>4.5</td>\n",
       "      <td>67.0</td>\n",
       "      <td>Construction company</td>\n",
       "      <td>Av. República do Líbano, 251 - Pina, Recife - ...</td>\n",
       "      <td>{'friday': '9AM–10PM', 'saturday': '9AM–10PM',...</td>\n",
       "      <td>+55 81 3125-6464</td>\n",
       "      <td>http://www.pernambucoconstrutora.com.br/pre-ho...</td>\n",
       "      <td>NaN</td>\n",
       "    </tr>\n",
       "    <tr>\n",
       "      <th>2</th>\n",
       "      <td>Construtora Capital</td>\n",
       "      <td>4.3</td>\n",
       "      <td>27.0</td>\n",
       "      <td>Construction company</td>\n",
       "      <td>Av. Coronel Teixeira, 6225 - Ponta Negra, Mana...</td>\n",
       "      <td>{'friday': '8AM–5PM', 'saturday': 'Closed', 's...</td>\n",
       "      <td>+55 92 3236-4378</td>\n",
       "      <td>https://construtoracapital.com.br/</td>\n",
       "      <td>NaN</td>\n",
       "    </tr>\n",
       "    <tr>\n",
       "      <th>3</th>\n",
       "      <td>CONEL CONSTRUTORA LTDA</td>\n",
       "      <td>4.5</td>\n",
       "      <td>54.0</td>\n",
       "      <td>Construction company</td>\n",
       "      <td>Av. Rio Branco, 1281 - Centro, Uberlândia - MG...</td>\n",
       "      <td>NaN</td>\n",
       "      <td>+55 34 3236-8600</td>\n",
       "      <td>http://www.conel.com.br/</td>\n",
       "      <td>NaN</td>\n",
       "    </tr>\n",
       "    <tr>\n",
       "      <th>4</th>\n",
       "      <td>CMO Construtora</td>\n",
       "      <td>4.4</td>\n",
       "      <td>167.0</td>\n",
       "      <td>Home builder</td>\n",
       "      <td>Walk Bueno Business &amp; Lifestyle, R. T-55, 930 ...</td>\n",
       "      <td>{'friday': '8AM–6PM', 'saturday': 'Closed', 's...</td>\n",
       "      <td>+55 62 3216-4272</td>\n",
       "      <td>http://cmoconstrutora.com.br/</td>\n",
       "      <td>NaN</td>\n",
       "    </tr>\n",
       "    <tr>\n",
       "      <th>...</th>\n",
       "      <td>...</td>\n",
       "      <td>...</td>\n",
       "      <td>...</td>\n",
       "      <td>...</td>\n",
       "      <td>...</td>\n",
       "      <td>...</td>\n",
       "      <td>...</td>\n",
       "      <td>...</td>\n",
       "      <td>...</td>\n",
       "    </tr>\n",
       "    <tr>\n",
       "      <th>335</th>\n",
       "      <td>Construtora Conclui</td>\n",
       "      <td>5.0</td>\n",
       "      <td>1.0</td>\n",
       "      <td>Building consultant</td>\n",
       "      <td>R. Prof. Milton Guimarães, 280 - Jardim Itamar...</td>\n",
       "      <td>{'friday': '7AM–5PM', 'saturday': 'Closed', 's...</td>\n",
       "      <td>+55 14 99708-2628</td>\n",
       "      <td>http://www.conclui.com.br/</td>\n",
       "      <td>NaN</td>\n",
       "    </tr>\n",
       "    <tr>\n",
       "      <th>336</th>\n",
       "      <td>Do Monte Construtora</td>\n",
       "      <td>NaN</td>\n",
       "      <td>NaN</td>\n",
       "      <td>Building firm</td>\n",
       "      <td>Av. Castro Alves, 367 - Jardim Carapina, Serra...</td>\n",
       "      <td>{'friday': '8AM–5PM', 'saturday': 'Closed', 's...</td>\n",
       "      <td>+55 27 3070-1632</td>\n",
       "      <td>http://www.domonte.com.br/</td>\n",
       "      <td>NaN</td>\n",
       "    </tr>\n",
       "    <tr>\n",
       "      <th>337</th>\n",
       "      <td>Residencial Praia Pacce</td>\n",
       "      <td>4.5</td>\n",
       "      <td>45.0</td>\n",
       "      <td>Townhouse complex</td>\n",
       "      <td>R. José Carlos Pacce, 91 - Vila Caiçara, Praia...</td>\n",
       "      <td>{'friday': '8AM–6PM', 'saturday': '9AM–6PM', '...</td>\n",
       "      <td>+55 13 99180-9759</td>\n",
       "      <td>https://avenidaconstrutora.com.br/empreendimen...</td>\n",
       "      <td>NaN</td>\n",
       "    </tr>\n",
       "    <tr>\n",
       "      <th>338</th>\n",
       "      <td>Apto Construtora</td>\n",
       "      <td>NaN</td>\n",
       "      <td>NaN</td>\n",
       "      <td>Building firm</td>\n",
       "      <td>R. Eng. Silvio Alvin Soares, 667 - Alvinópolis...</td>\n",
       "      <td>NaN</td>\n",
       "      <td>+55 11 3402-3099</td>\n",
       "      <td>http://aptoconstrutora.com.br/</td>\n",
       "      <td>NaN</td>\n",
       "    </tr>\n",
       "    <tr>\n",
       "      <th>339</th>\n",
       "      <td>Razente Imóveis</td>\n",
       "      <td>4.0</td>\n",
       "      <td>23.0</td>\n",
       "      <td>Real estate agency</td>\n",
       "      <td>Av. Brasil, 523 - Nova Esperança, PR, 87600-00...</td>\n",
       "      <td>{'friday': '8AM–6PM', 'saturday': 'Closed', 's...</td>\n",
       "      <td>+55 44 3252-8218</td>\n",
       "      <td>http://imobiliariarazente.com.br/</td>\n",
       "      <td>NaN</td>\n",
       "    </tr>\n",
       "  </tbody>\n",
       "</table>\n",
       "<p>340 rows × 9 columns</p>\n",
       "</div>"
      ],
      "text/plain": [
       "                                       title  rating  reviews  \\\n",
       "0    Conscious Construction and Incorporated     4.7    185.0   \n",
       "1                     Pernambuco Construtora     4.5     67.0   \n",
       "2                        Construtora Capital     4.3     27.0   \n",
       "3                     CONEL CONSTRUTORA LTDA     4.5     54.0   \n",
       "4                            CMO Construtora     4.4    167.0   \n",
       "..                                       ...     ...      ...   \n",
       "335                      Construtora Conclui     5.0      1.0   \n",
       "336                     Do Monte Construtora     NaN      NaN   \n",
       "337                  Residencial Praia Pacce     4.5     45.0   \n",
       "338                         Apto Construtora     NaN      NaN   \n",
       "339                          Razente Imóveis     4.0     23.0   \n",
       "\n",
       "                     type                                            address  \\\n",
       "0    Construction company  Av. T-2 com T-55 Qd.99 Lt.09, St. Bueno, Goiân...   \n",
       "1    Construction company  Av. República do Líbano, 251 - Pina, Recife - ...   \n",
       "2    Construction company  Av. Coronel Teixeira, 6225 - Ponta Negra, Mana...   \n",
       "3    Construction company  Av. Rio Branco, 1281 - Centro, Uberlândia - MG...   \n",
       "4            Home builder  Walk Bueno Business & Lifestyle, R. T-55, 930 ...   \n",
       "..                    ...                                                ...   \n",
       "335   Building consultant  R. Prof. Milton Guimarães, 280 - Jardim Itamar...   \n",
       "336         Building firm  Av. Castro Alves, 367 - Jardim Carapina, Serra...   \n",
       "337     Townhouse complex  R. José Carlos Pacce, 91 - Vila Caiçara, Praia...   \n",
       "338         Building firm  R. Eng. Silvio Alvin Soares, 667 - Alvinópolis...   \n",
       "339    Real estate agency  Av. Brasil, 523 - Nova Esperança, PR, 87600-00...   \n",
       "\n",
       "                                       operating_hours              phone  \\\n",
       "0    {'friday': '8AM–7PM', 'saturday': '8AM–7PM', '...   +55 62 3086-5000   \n",
       "1    {'friday': '9AM–10PM', 'saturday': '9AM–10PM',...   +55 81 3125-6464   \n",
       "2    {'friday': '8AM–5PM', 'saturday': 'Closed', 's...   +55 92 3236-4378   \n",
       "3                                                  NaN   +55 34 3236-8600   \n",
       "4    {'friday': '8AM–6PM', 'saturday': 'Closed', 's...   +55 62 3216-4272   \n",
       "..                                                 ...                ...   \n",
       "335  {'friday': '7AM–5PM', 'saturday': 'Closed', 's...  +55 14 99708-2628   \n",
       "336  {'friday': '8AM–5PM', 'saturday': 'Closed', 's...   +55 27 3070-1632   \n",
       "337  {'friday': '8AM–6PM', 'saturday': '9AM–6PM', '...  +55 13 99180-9759   \n",
       "338                                                NaN   +55 11 3402-3099   \n",
       "339  {'friday': '8AM–6PM', 'saturday': 'Closed', 's...   +55 44 3252-8218   \n",
       "\n",
       "                                               website user_review  \n",
       "0                            http://consciente.com.br/         NaN  \n",
       "1    http://www.pernambucoconstrutora.com.br/pre-ho...         NaN  \n",
       "2                   https://construtoracapital.com.br/         NaN  \n",
       "3                             http://www.conel.com.br/         NaN  \n",
       "4                        http://cmoconstrutora.com.br/         NaN  \n",
       "..                                                 ...         ...  \n",
       "335                         http://www.conclui.com.br/         NaN  \n",
       "336                         http://www.domonte.com.br/         NaN  \n",
       "337  https://avenidaconstrutora.com.br/empreendimen...         NaN  \n",
       "338                     http://aptoconstrutora.com.br/         NaN  \n",
       "339                  http://imobiliariarazente.com.br/         NaN  \n",
       "\n",
       "[340 rows x 9 columns]"
      ]
     },
     "execution_count": 27,
     "metadata": {},
     "output_type": "execute_result"
    }
   ],
   "source": [
    "data = d0.append(d1, ignore_index=True).append(d2, ignore_index=True).append(d3, ignore_index=True).append(d4, ignore_index=True).append(d5, ignore_index=True).append(d6, ignore_index=True).append(d7, ignore_index=True).append(d8, ignore_index=True).append(d9, ignore_index=True).append(d10, ignore_index=True).append(d11, ignore_index=True).append(d12, ignore_index=True).append(d13, ignore_index=True).append(d14, ignore_index=True).append(d15, ignore_index=True).append(d16, ignore_index=True)\n",
    "data = data.drop(['position', 'place_id', 'data_id', 'data_cid', 'reviews_link', 'photos_link', 'gps_coordinates', 'place_id_search', 'open_state', 'hours', 'thumbnail', 'service_options', 'unclaimed_listing'], axis=1)\n",
    "data"
   ]
  },
  {
   "cell_type": "code",
   "execution_count": 28,
   "id": "008943f0",
   "metadata": {
    "hidden": true
   },
   "outputs": [],
   "source": [
    "data.to_csv('construtores_br.csv')"
   ]
  },
  {
   "cell_type": "markdown",
   "id": "a4ce79fc",
   "metadata": {
    "heading_collapsed": true
   },
   "source": [
    "# Scrapping"
   ]
  },
  {
   "cell_type": "code",
   "execution_count": 30,
   "id": "c799bb5e",
   "metadata": {
    "hidden": true
   },
   "outputs": [],
   "source": [
    "import requests\n",
    "from bs4 import BeautifulSoup\n",
    "\n",
    "response = requests.get(\"https://www.google.com.br/maps/search/construtores/@-7.2058701,-35.8825038,15z/data=!3m1!4b1\")\n",
    "soup = BeautifulSoup(response.content, \"html.parser\")"
   ]
  },
  {
   "cell_type": "code",
   "execution_count": 39,
   "id": "f8c47617",
   "metadata": {
    "hidden": true
   },
   "outputs": [
    {
     "data": {
      "text/plain": [
       "[]"
      ]
     },
     "execution_count": 39,
     "metadata": {},
     "output_type": "execute_result"
    }
   ],
   "source": [
    "soup.find_all(\"div\", class_= \"UaQhfb fontBodyMedium\")"
   ]
  },
  {
   "cell_type": "code",
   "execution_count": 25,
   "id": "08a0b211",
   "metadata": {
    "hidden": true
   },
   "outputs": [
    {
     "name": "stdout",
     "output_type": "stream",
     "text": [
      "[]\n"
     ]
    }
   ],
   "source": [
    "movies = []\n",
    "for movie in soup.find_all(\"div\", class_= \"UaQhfb fontBodyMedium\"):\n",
    "    #title = movie.find(\"h3\").find(\"a\").string\n",
    "    #duration = int(movie.find(\"span\", class_=\"runtime\").string.strip(' min'))\n",
    "    #movies.append({'title': title, 'duration': duration})\n",
    "    movies.append(movie)\n",
    "    \n",
    "print(movies[0:2])"
   ]
  },
  {
   "cell_type": "code",
   "execution_count": 10,
   "id": "d44a782f",
   "metadata": {
    "hidden": true
   },
   "outputs": [],
   "source": [
    "import requests\n",
    "from bs4 import BeautifulSoup\n",
    "import os\n",
    "import pandas as pd\n",
    "import geopandas as gpd\n",
    "import time\n",
    "import re\n",
    "from shapely.geometry import Point\n",
    "import psycopg2 as pg"
   ]
  },
  {
   "cell_type": "code",
   "execution_count": 13,
   "id": "b4046517",
   "metadata": {
    "hidden": true
   },
   "outputs": [],
   "source": [
    "from selenium import webdriver\n",
    "from selenium.webdriver.support.ui import WebDriverWait\n",
    "from selenium.webdriver.support import expected_conditions as EC\n",
    "from selenium.webdriver.common.by import By\n",
    "from selenium.common.exceptions import TimeoutException\n",
    "from webdriver_manager.chrome import ChromeDriverManager\n",
    "from selenium.webdriver.chrome.options import Options"
   ]
  },
  {
   "cell_type": "code",
   "execution_count": 14,
   "id": "64d38f7d",
   "metadata": {
    "hidden": true
   },
   "outputs": [],
   "source": [
    "base_url = \"https://www.google.com/maps/search/{0}/@{1},{2},16z\"\n"
   ]
  },
  {
   "cell_type": "code",
   "execution_count": 18,
   "id": "5d026b30",
   "metadata": {
    "hidden": true
   },
   "outputs": [
    {
     "ename": "NameError",
     "evalue": "name 'gdf' is not defined",
     "output_type": "error",
     "traceback": [
      "\u001b[0;31m---------------------------------------------------------------------------\u001b[0m",
      "\u001b[0;31mNameError\u001b[0m                                 Traceback (most recent call last)",
      "\u001b[0;32m/tmp/ipykernel_32629/3951483000.py\u001b[0m in \u001b[0;36m<module>\u001b[0;34m\u001b[0m\n\u001b[0;32m----> 1\u001b[0;31m \u001b[0mcoords\u001b[0m \u001b[0;34m=\u001b[0m \u001b[0mgdf\u001b[0m\u001b[0;34m[\u001b[0m\u001b[0;34m'geom'\u001b[0m\u001b[0;34m]\u001b[0m\u001b[0;34m.\u001b[0m\u001b[0mcentroid\u001b[0m\u001b[0;34m\u001b[0m\u001b[0;34m\u001b[0m\u001b[0m\n\u001b[0m\u001b[1;32m      2\u001b[0m \u001b[0mxs\u001b[0m \u001b[0;34m=\u001b[0m \u001b[0mcoords\u001b[0m\u001b[0;34m.\u001b[0m\u001b[0mapply\u001b[0m\u001b[0;34m(\u001b[0m\u001b[0;32mlambda\u001b[0m \u001b[0mx\u001b[0m\u001b[0;34m:\u001b[0m \u001b[0mx\u001b[0m\u001b[0;34m.\u001b[0m\u001b[0mx\u001b[0m\u001b[0;34m)\u001b[0m\u001b[0;34m.\u001b[0m\u001b[0mtolist\u001b[0m\u001b[0;34m(\u001b[0m\u001b[0;34m)\u001b[0m\u001b[0;34m\u001b[0m\u001b[0;34m\u001b[0m\u001b[0m\n\u001b[1;32m      3\u001b[0m \u001b[0mys\u001b[0m \u001b[0;34m=\u001b[0m \u001b[0mcoords\u001b[0m\u001b[0;34m.\u001b[0m\u001b[0mapply\u001b[0m\u001b[0;34m(\u001b[0m\u001b[0;32mlambda\u001b[0m \u001b[0mx\u001b[0m\u001b[0;34m:\u001b[0m \u001b[0mx\u001b[0m\u001b[0;34m.\u001b[0m\u001b[0my\u001b[0m\u001b[0;34m)\u001b[0m\u001b[0;34m.\u001b[0m\u001b[0mtolist\u001b[0m\u001b[0;34m(\u001b[0m\u001b[0;34m)\u001b[0m\u001b[0;34m\u001b[0m\u001b[0;34m\u001b[0m\u001b[0m\n",
      "\u001b[0;31mNameError\u001b[0m: name 'gdf' is not defined"
     ]
    }
   ],
   "source": [
    "coords = gdf['geom'].centroid\n",
    "xs = coords.apply(lambda x: x.x).tolist()\n",
    "ys = coords.apply(lambda x: x.y).tolist()"
   ]
  },
  {
   "cell_type": "code",
   "execution_count": 19,
   "id": "a7771cae",
   "metadata": {
    "hidden": true
   },
   "outputs": [
    {
     "name": "stderr",
     "output_type": "stream",
     "text": [
      "/tmp/ipykernel_32629/2741958176.py:5: DeprecationWarning: executable_path has been deprecated, please pass in a Service object\n",
      "  driver = webdriver.Chrome(chromedrive_path)\n"
     ]
    },
    {
     "ename": "WebDriverException",
     "evalue": "Message: 'chromedriver' executable needs to be in PATH. Please see https://chromedriver.chromium.org/home\n",
     "output_type": "error",
     "traceback": [
      "\u001b[0;31m---------------------------------------------------------------------------\u001b[0m",
      "\u001b[0;31mFileNotFoundError\u001b[0m                         Traceback (most recent call last)",
      "\u001b[0;32m~/.pyenv/versions/3.8.12/envs/lewagon/lib/python3.8/site-packages/selenium/webdriver/common/service.py\u001b[0m in \u001b[0;36mstart\u001b[0;34m(self)\u001b[0m\n\u001b[1;32m     70\u001b[0m             \u001b[0mcmd\u001b[0m\u001b[0;34m.\u001b[0m\u001b[0mextend\u001b[0m\u001b[0;34m(\u001b[0m\u001b[0mself\u001b[0m\u001b[0;34m.\u001b[0m\u001b[0mcommand_line_args\u001b[0m\u001b[0;34m(\u001b[0m\u001b[0;34m)\u001b[0m\u001b[0;34m)\u001b[0m\u001b[0;34m\u001b[0m\u001b[0;34m\u001b[0m\u001b[0m\n\u001b[0;32m---> 71\u001b[0;31m             self.process = subprocess.Popen(cmd, env=self.env,\n\u001b[0m\u001b[1;32m     72\u001b[0m                                             \u001b[0mclose_fds\u001b[0m\u001b[0;34m=\u001b[0m\u001b[0msystem\u001b[0m\u001b[0;34m(\u001b[0m\u001b[0;34m)\u001b[0m \u001b[0;34m!=\u001b[0m \u001b[0;34m'Windows'\u001b[0m\u001b[0;34m,\u001b[0m\u001b[0;34m\u001b[0m\u001b[0;34m\u001b[0m\u001b[0m\n",
      "\u001b[0;32m~/.pyenv/versions/3.8.12/lib/python3.8/subprocess.py\u001b[0m in \u001b[0;36m__init__\u001b[0;34m(self, args, bufsize, executable, stdin, stdout, stderr, preexec_fn, close_fds, shell, cwd, env, universal_newlines, startupinfo, creationflags, restore_signals, start_new_session, pass_fds, encoding, errors, text)\u001b[0m\n\u001b[1;32m    857\u001b[0m \u001b[0;34m\u001b[0m\u001b[0m\n\u001b[0;32m--> 858\u001b[0;31m             self._execute_child(args, executable, preexec_fn, close_fds,\n\u001b[0m\u001b[1;32m    859\u001b[0m                                 \u001b[0mpass_fds\u001b[0m\u001b[0;34m,\u001b[0m \u001b[0mcwd\u001b[0m\u001b[0;34m,\u001b[0m \u001b[0menv\u001b[0m\u001b[0;34m,\u001b[0m\u001b[0;34m\u001b[0m\u001b[0;34m\u001b[0m\u001b[0m\n",
      "\u001b[0;32m~/.pyenv/versions/3.8.12/lib/python3.8/subprocess.py\u001b[0m in \u001b[0;36m_execute_child\u001b[0;34m(self, args, executable, preexec_fn, close_fds, pass_fds, cwd, env, startupinfo, creationflags, shell, p2cread, p2cwrite, c2pread, c2pwrite, errread, errwrite, restore_signals, start_new_session)\u001b[0m\n\u001b[1;32m   1703\u001b[0m                         \u001b[0merr_msg\u001b[0m \u001b[0;34m=\u001b[0m \u001b[0mos\u001b[0m\u001b[0;34m.\u001b[0m\u001b[0mstrerror\u001b[0m\u001b[0;34m(\u001b[0m\u001b[0merrno_num\u001b[0m\u001b[0;34m)\u001b[0m\u001b[0;34m\u001b[0m\u001b[0;34m\u001b[0m\u001b[0m\n\u001b[0;32m-> 1704\u001b[0;31m                     \u001b[0;32mraise\u001b[0m \u001b[0mchild_exception_type\u001b[0m\u001b[0;34m(\u001b[0m\u001b[0merrno_num\u001b[0m\u001b[0;34m,\u001b[0m \u001b[0merr_msg\u001b[0m\u001b[0;34m,\u001b[0m \u001b[0merr_filename\u001b[0m\u001b[0;34m)\u001b[0m\u001b[0;34m\u001b[0m\u001b[0;34m\u001b[0m\u001b[0m\n\u001b[0m\u001b[1;32m   1705\u001b[0m                 \u001b[0;32mraise\u001b[0m \u001b[0mchild_exception_type\u001b[0m\u001b[0;34m(\u001b[0m\u001b[0merr_msg\u001b[0m\u001b[0;34m)\u001b[0m\u001b[0;34m\u001b[0m\u001b[0;34m\u001b[0m\u001b[0m\n",
      "\u001b[0;31mFileNotFoundError\u001b[0m: [Errno 2] No such file or directory: './chromedriver'",
      "\nDuring handling of the above exception, another exception occurred:\n",
      "\u001b[0;31mWebDriverException\u001b[0m                        Traceback (most recent call last)",
      "\u001b[0;32m/tmp/ipykernel_32629/2741958176.py\u001b[0m in \u001b[0;36m<module>\u001b[0;34m\u001b[0m\n\u001b[1;32m      3\u001b[0m \u001b[0;34m\u001b[0m\u001b[0m\n\u001b[1;32m      4\u001b[0m \u001b[0mchromedrive_path\u001b[0m \u001b[0;34m=\u001b[0m \u001b[0;34m'./chromedriver'\u001b[0m \u001b[0;31m# use the path to the driver you downloaded from previous steps\u001b[0m\u001b[0;34m\u001b[0m\u001b[0;34m\u001b[0m\u001b[0m\n\u001b[0;32m----> 5\u001b[0;31m \u001b[0mdriver\u001b[0m \u001b[0;34m=\u001b[0m \u001b[0mwebdriver\u001b[0m\u001b[0;34m.\u001b[0m\u001b[0mChrome\u001b[0m\u001b[0;34m(\u001b[0m\u001b[0mchromedrive_path\u001b[0m\u001b[0;34m)\u001b[0m\u001b[0;34m\u001b[0m\u001b[0;34m\u001b[0m\u001b[0m\n\u001b[0m",
      "\u001b[0;32m~/.pyenv/versions/3.8.12/envs/lewagon/lib/python3.8/site-packages/selenium/webdriver/chrome/webdriver.py\u001b[0m in \u001b[0;36m__init__\u001b[0;34m(self, executable_path, port, options, service_args, desired_capabilities, service_log_path, chrome_options, service, keep_alive)\u001b[0m\n\u001b[1;32m     67\u001b[0m             \u001b[0mservice\u001b[0m \u001b[0;34m=\u001b[0m \u001b[0mService\u001b[0m\u001b[0;34m(\u001b[0m\u001b[0mexecutable_path\u001b[0m\u001b[0;34m,\u001b[0m \u001b[0mport\u001b[0m\u001b[0;34m,\u001b[0m \u001b[0mservice_args\u001b[0m\u001b[0;34m,\u001b[0m \u001b[0mservice_log_path\u001b[0m\u001b[0;34m)\u001b[0m\u001b[0;34m\u001b[0m\u001b[0;34m\u001b[0m\u001b[0m\n\u001b[1;32m     68\u001b[0m \u001b[0;34m\u001b[0m\u001b[0m\n\u001b[0;32m---> 69\u001b[0;31m         super().__init__(DesiredCapabilities.CHROME['browserName'], \"goog\",\n\u001b[0m\u001b[1;32m     70\u001b[0m                          \u001b[0mport\u001b[0m\u001b[0;34m,\u001b[0m \u001b[0moptions\u001b[0m\u001b[0;34m,\u001b[0m\u001b[0;34m\u001b[0m\u001b[0;34m\u001b[0m\u001b[0m\n\u001b[1;32m     71\u001b[0m                          \u001b[0mservice_args\u001b[0m\u001b[0;34m,\u001b[0m \u001b[0mdesired_capabilities\u001b[0m\u001b[0;34m,\u001b[0m\u001b[0;34m\u001b[0m\u001b[0;34m\u001b[0m\u001b[0m\n",
      "\u001b[0;32m~/.pyenv/versions/3.8.12/envs/lewagon/lib/python3.8/site-packages/selenium/webdriver/chromium/webdriver.py\u001b[0m in \u001b[0;36m__init__\u001b[0;34m(self, browser_name, vendor_prefix, port, options, service_args, desired_capabilities, service_log_path, service, keep_alive)\u001b[0m\n\u001b[1;32m     87\u001b[0m \u001b[0;34m\u001b[0m\u001b[0m\n\u001b[1;32m     88\u001b[0m         \u001b[0mself\u001b[0m\u001b[0;34m.\u001b[0m\u001b[0mservice\u001b[0m \u001b[0;34m=\u001b[0m \u001b[0mservice\u001b[0m\u001b[0;34m\u001b[0m\u001b[0;34m\u001b[0m\u001b[0m\n\u001b[0;32m---> 89\u001b[0;31m         \u001b[0mself\u001b[0m\u001b[0;34m.\u001b[0m\u001b[0mservice\u001b[0m\u001b[0;34m.\u001b[0m\u001b[0mstart\u001b[0m\u001b[0;34m(\u001b[0m\u001b[0;34m)\u001b[0m\u001b[0;34m\u001b[0m\u001b[0;34m\u001b[0m\u001b[0m\n\u001b[0m\u001b[1;32m     90\u001b[0m \u001b[0;34m\u001b[0m\u001b[0m\n\u001b[1;32m     91\u001b[0m         \u001b[0;32mtry\u001b[0m\u001b[0;34m:\u001b[0m\u001b[0;34m\u001b[0m\u001b[0;34m\u001b[0m\u001b[0m\n",
      "\u001b[0;32m~/.pyenv/versions/3.8.12/envs/lewagon/lib/python3.8/site-packages/selenium/webdriver/common/service.py\u001b[0m in \u001b[0;36mstart\u001b[0;34m(self)\u001b[0m\n\u001b[1;32m     79\u001b[0m         \u001b[0;32mexcept\u001b[0m \u001b[0mOSError\u001b[0m \u001b[0;32mas\u001b[0m \u001b[0merr\u001b[0m\u001b[0;34m:\u001b[0m\u001b[0;34m\u001b[0m\u001b[0;34m\u001b[0m\u001b[0m\n\u001b[1;32m     80\u001b[0m             \u001b[0;32mif\u001b[0m \u001b[0merr\u001b[0m\u001b[0;34m.\u001b[0m\u001b[0merrno\u001b[0m \u001b[0;34m==\u001b[0m \u001b[0merrno\u001b[0m\u001b[0;34m.\u001b[0m\u001b[0mENOENT\u001b[0m\u001b[0;34m:\u001b[0m\u001b[0;34m\u001b[0m\u001b[0;34m\u001b[0m\u001b[0m\n\u001b[0;32m---> 81\u001b[0;31m                 raise WebDriverException(\n\u001b[0m\u001b[1;32m     82\u001b[0m                     \"'{}' executable needs to be in PATH. {}\".format(\n\u001b[1;32m     83\u001b[0m                         os.path.basename(self.path), self.start_error_message)\n",
      "\u001b[0;31mWebDriverException\u001b[0m: Message: 'chromedriver' executable needs to be in PATH. Please see https://chromedriver.chromium.org/home\n"
     ]
    }
   ],
   "source": [
    "from selenium import webdriver \n",
    " \n",
    " \n",
    "chromedrive_path = './chromedriver' # use the path to the driver you downloaded from previous steps \n",
    "driver = webdriver.Chrome(chromedrive_path) "
   ]
  },
  {
   "cell_type": "code",
   "execution_count": null,
   "id": "1d093932",
   "metadata": {
    "hidden": true
   },
   "outputs": [],
   "source": []
  },
  {
   "cell_type": "code",
   "execution_count": 15,
   "id": "391081d7",
   "metadata": {
    "hidden": true
   },
   "outputs": [
    {
     "ename": "KeyError",
     "evalue": "'aws_db_host'",
     "output_type": "error",
     "traceback": [
      "\u001b[0;31m---------------------------------------------------------------------------\u001b[0m",
      "\u001b[0;31mKeyError\u001b[0m                                  Traceback (most recent call last)",
      "\u001b[0;32m/tmp/ipykernel_32629/2053743262.py\u001b[0m in \u001b[0;36m<module>\u001b[0;34m\u001b[0m\n\u001b[1;32m      1\u001b[0m conn = pg.connect(\n\u001b[0;32m----> 2\u001b[0;31m     \u001b[0mhost\u001b[0m\u001b[0;34m=\u001b[0m\u001b[0mos\u001b[0m\u001b[0;34m.\u001b[0m\u001b[0menviron\u001b[0m\u001b[0;34m[\u001b[0m\u001b[0;34m'aws_db_host'\u001b[0m\u001b[0;34m]\u001b[0m\u001b[0;34m,\u001b[0m\u001b[0;34m\u001b[0m\u001b[0;34m\u001b[0m\u001b[0m\n\u001b[0m\u001b[1;32m      3\u001b[0m     \u001b[0mport\u001b[0m\u001b[0;34m=\u001b[0m\u001b[0;34m\"5432\"\u001b[0m\u001b[0;34m,\u001b[0m\u001b[0;34m\u001b[0m\u001b[0;34m\u001b[0m\u001b[0m\n\u001b[1;32m      4\u001b[0m     \u001b[0muser\u001b[0m\u001b[0;34m=\u001b[0m\u001b[0mos\u001b[0m\u001b[0;34m.\u001b[0m\u001b[0menviron\u001b[0m\u001b[0;34m[\u001b[0m\u001b[0;34m'aws_db_u'\u001b[0m\u001b[0;34m]\u001b[0m\u001b[0;34m,\u001b[0m\u001b[0;34m\u001b[0m\u001b[0;34m\u001b[0m\u001b[0m\n\u001b[1;32m      5\u001b[0m     \u001b[0mpassword\u001b[0m\u001b[0;34m=\u001b[0m\u001b[0mos\u001b[0m\u001b[0;34m.\u001b[0m\u001b[0menviron\u001b[0m\u001b[0;34m[\u001b[0m\u001b[0;34m'aws_db_p'\u001b[0m\u001b[0;34m]\u001b[0m\u001b[0;34m\u001b[0m\u001b[0;34m\u001b[0m\u001b[0m\n",
      "\u001b[0;32m~/.pyenv/versions/3.8.12/lib/python3.8/os.py\u001b[0m in \u001b[0;36m__getitem__\u001b[0;34m(self, key)\u001b[0m\n\u001b[1;32m    673\u001b[0m         \u001b[0;32mexcept\u001b[0m \u001b[0mKeyError\u001b[0m\u001b[0;34m:\u001b[0m\u001b[0;34m\u001b[0m\u001b[0;34m\u001b[0m\u001b[0m\n\u001b[1;32m    674\u001b[0m             \u001b[0;31m# raise KeyError with the original key value\u001b[0m\u001b[0;34m\u001b[0m\u001b[0;34m\u001b[0m\u001b[0;34m\u001b[0m\u001b[0m\n\u001b[0;32m--> 675\u001b[0;31m             \u001b[0;32mraise\u001b[0m \u001b[0mKeyError\u001b[0m\u001b[0;34m(\u001b[0m\u001b[0mkey\u001b[0m\u001b[0;34m)\u001b[0m \u001b[0;32mfrom\u001b[0m \u001b[0;32mNone\u001b[0m\u001b[0;34m\u001b[0m\u001b[0;34m\u001b[0m\u001b[0m\n\u001b[0m\u001b[1;32m    676\u001b[0m         \u001b[0;32mreturn\u001b[0m \u001b[0mself\u001b[0m\u001b[0;34m.\u001b[0m\u001b[0mdecodevalue\u001b[0m\u001b[0;34m(\u001b[0m\u001b[0mvalue\u001b[0m\u001b[0;34m)\u001b[0m\u001b[0;34m\u001b[0m\u001b[0;34m\u001b[0m\u001b[0m\n\u001b[1;32m    677\u001b[0m \u001b[0;34m\u001b[0m\u001b[0m\n",
      "\u001b[0;31mKeyError\u001b[0m: 'aws_db_host'"
     ]
    }
   ],
   "source": [
    "conn = pg.connect(\n",
    "    host=os.environ['aws_db_host'],\n",
    "    port=\"5432\",\n",
    "    user=os.environ['aws_db_u'],\n",
    "    password=os.environ['aws_db_p']\n",
    ")"
   ]
  },
  {
   "cell_type": "code",
   "execution_count": 16,
   "id": "52b3241d",
   "metadata": {
    "hidden": true
   },
   "outputs": [
    {
     "ename": "NameError",
     "evalue": "name 'conn' is not defined",
     "output_type": "error",
     "traceback": [
      "\u001b[0;31m---------------------------------------------------------------------------\u001b[0m",
      "\u001b[0;31mNameError\u001b[0m                                 Traceback (most recent call last)",
      "\u001b[0;32m/tmp/ipykernel_32629/3803247676.py\u001b[0m in \u001b[0;36m<module>\u001b[0;34m\u001b[0m\n\u001b[1;32m      7\u001b[0m            \u001b[0mOR\u001b[0m \u001b[0mSTARTS_WITH\u001b[0m\u001b[0;34m(\u001b[0m\u001b[0mregion_id\u001b[0m\u001b[0;34m,\u001b[0m \u001b[0;34m'36085'\u001b[0m\u001b[0;34m)\u001b[0m \u001b[0mOR\u001b[0m \u001b[0mSTARTS_WITH\u001b[0m\u001b[0;34m(\u001b[0m\u001b[0mregion_id\u001b[0m\u001b[0;34m,\u001b[0m \u001b[0;34m'36005'\u001b[0m\u001b[0;34m)\u001b[0m\u001b[0;34m\u001b[0m\u001b[0;34m\u001b[0m\u001b[0m\n\u001b[1;32m      8\u001b[0m            OR STARTS_WITH(region_id, '36081'))\n\u001b[0;32m----> 9\u001b[0;31m     ''', conn)\n\u001b[0m",
      "\u001b[0;31mNameError\u001b[0m: name 'conn' is not defined"
     ]
    }
   ],
   "source": [
    "gdf = gpd.read_postgis('''\n",
    "    SELECT \n",
    "        region_id,\n",
    "        geom AS geom\n",
    "    FROM geographies.blockgroups\n",
    "    WHERE (STARTS_WITH(region_id, '36061') OR STARTS_WITH(region_id, '36047')\n",
    "           OR STARTS_WITH(region_id, '36085') OR STARTS_WITH(region_id, '36005')\n",
    "           OR STARTS_WITH(region_id, '36081'))\n",
    "    ''', conn)"
   ]
  },
  {
   "cell_type": "code",
   "execution_count": 17,
   "id": "fcdd662f",
   "metadata": {
    "hidden": true,
    "scrolled": true
   },
   "outputs": [
    {
     "ename": "WebDriverException",
     "evalue": "Message: 'geckodriver' executable needs to be in PATH. \n",
     "output_type": "error",
     "traceback": [
      "\u001b[0;31m---------------------------------------------------------------------------\u001b[0m",
      "\u001b[0;31mFileNotFoundError\u001b[0m                         Traceback (most recent call last)",
      "\u001b[0;32m~/.pyenv/versions/3.8.12/envs/lewagon/lib/python3.8/site-packages/selenium/webdriver/common/service.py\u001b[0m in \u001b[0;36mstart\u001b[0;34m(self)\u001b[0m\n\u001b[1;32m     70\u001b[0m             \u001b[0mcmd\u001b[0m\u001b[0;34m.\u001b[0m\u001b[0mextend\u001b[0m\u001b[0;34m(\u001b[0m\u001b[0mself\u001b[0m\u001b[0;34m.\u001b[0m\u001b[0mcommand_line_args\u001b[0m\u001b[0;34m(\u001b[0m\u001b[0;34m)\u001b[0m\u001b[0;34m)\u001b[0m\u001b[0;34m\u001b[0m\u001b[0;34m\u001b[0m\u001b[0m\n\u001b[0;32m---> 71\u001b[0;31m             self.process = subprocess.Popen(cmd, env=self.env,\n\u001b[0m\u001b[1;32m     72\u001b[0m                                             \u001b[0mclose_fds\u001b[0m\u001b[0;34m=\u001b[0m\u001b[0msystem\u001b[0m\u001b[0;34m(\u001b[0m\u001b[0;34m)\u001b[0m \u001b[0;34m!=\u001b[0m \u001b[0;34m'Windows'\u001b[0m\u001b[0;34m,\u001b[0m\u001b[0;34m\u001b[0m\u001b[0;34m\u001b[0m\u001b[0m\n",
      "\u001b[0;32m~/.pyenv/versions/3.8.12/lib/python3.8/subprocess.py\u001b[0m in \u001b[0;36m__init__\u001b[0;34m(self, args, bufsize, executable, stdin, stdout, stderr, preexec_fn, close_fds, shell, cwd, env, universal_newlines, startupinfo, creationflags, restore_signals, start_new_session, pass_fds, encoding, errors, text)\u001b[0m\n\u001b[1;32m    857\u001b[0m \u001b[0;34m\u001b[0m\u001b[0m\n\u001b[0;32m--> 858\u001b[0;31m             self._execute_child(args, executable, preexec_fn, close_fds,\n\u001b[0m\u001b[1;32m    859\u001b[0m                                 \u001b[0mpass_fds\u001b[0m\u001b[0;34m,\u001b[0m \u001b[0mcwd\u001b[0m\u001b[0;34m,\u001b[0m \u001b[0menv\u001b[0m\u001b[0;34m,\u001b[0m\u001b[0;34m\u001b[0m\u001b[0;34m\u001b[0m\u001b[0m\n",
      "\u001b[0;32m~/.pyenv/versions/3.8.12/lib/python3.8/subprocess.py\u001b[0m in \u001b[0;36m_execute_child\u001b[0;34m(self, args, executable, preexec_fn, close_fds, pass_fds, cwd, env, startupinfo, creationflags, shell, p2cread, p2cwrite, c2pread, c2pwrite, errread, errwrite, restore_signals, start_new_session)\u001b[0m\n\u001b[1;32m   1703\u001b[0m                         \u001b[0merr_msg\u001b[0m \u001b[0;34m=\u001b[0m \u001b[0mos\u001b[0m\u001b[0;34m.\u001b[0m\u001b[0mstrerror\u001b[0m\u001b[0;34m(\u001b[0m\u001b[0merrno_num\u001b[0m\u001b[0;34m)\u001b[0m\u001b[0;34m\u001b[0m\u001b[0;34m\u001b[0m\u001b[0m\n\u001b[0;32m-> 1704\u001b[0;31m                     \u001b[0;32mraise\u001b[0m \u001b[0mchild_exception_type\u001b[0m\u001b[0;34m(\u001b[0m\u001b[0merrno_num\u001b[0m\u001b[0;34m,\u001b[0m \u001b[0merr_msg\u001b[0m\u001b[0;34m,\u001b[0m \u001b[0merr_filename\u001b[0m\u001b[0;34m)\u001b[0m\u001b[0;34m\u001b[0m\u001b[0;34m\u001b[0m\u001b[0m\n\u001b[0m\u001b[1;32m   1705\u001b[0m                 \u001b[0;32mraise\u001b[0m \u001b[0mchild_exception_type\u001b[0m\u001b[0;34m(\u001b[0m\u001b[0merr_msg\u001b[0m\u001b[0;34m)\u001b[0m\u001b[0;34m\u001b[0m\u001b[0;34m\u001b[0m\u001b[0m\n",
      "\u001b[0;31mFileNotFoundError\u001b[0m: [Errno 2] No such file or directory: 'geckodriver'",
      "\nDuring handling of the above exception, another exception occurred:\n",
      "\u001b[0;31mWebDriverException\u001b[0m                        Traceback (most recent call last)",
      "\u001b[0;32m/tmp/ipykernel_32629/1242651852.py\u001b[0m in \u001b[0;36m<module>\u001b[0;34m\u001b[0m\n\u001b[1;32m      8\u001b[0m \u001b[0;31m#intiate the firefox webdriver instance\u001b[0m\u001b[0;34m\u001b[0m\u001b[0;34m\u001b[0m\u001b[0;34m\u001b[0m\u001b[0m\n\u001b[1;32m      9\u001b[0m \u001b[0;34m\u001b[0m\u001b[0m\n\u001b[0;32m---> 10\u001b[0;31m \u001b[0mdriver\u001b[0m\u001b[0;34m=\u001b[0m\u001b[0mwebdriver\u001b[0m\u001b[0;34m.\u001b[0m\u001b[0mFirefox\u001b[0m\u001b[0;34m(\u001b[0m\u001b[0;34m)\u001b[0m\u001b[0;34m\u001b[0m\u001b[0;34m\u001b[0m\u001b[0m\n\u001b[0m\u001b[1;32m     11\u001b[0m \u001b[0;34m\u001b[0m\u001b[0m\n\u001b[1;32m     12\u001b[0m \u001b[0;31m#enter the filename\u001b[0m\u001b[0;34m\u001b[0m\u001b[0;34m\u001b[0m\u001b[0;34m\u001b[0m\u001b[0m\n",
      "\u001b[0;32m~/.pyenv/versions/3.8.12/envs/lewagon/lib/python3.8/site-packages/selenium/webdriver/firefox/webdriver.py\u001b[0m in \u001b[0;36m__init__\u001b[0;34m(self, firefox_profile, firefox_binary, capabilities, proxy, executable_path, options, service_log_path, service_args, service, desired_capabilities, log_path, keep_alive)\u001b[0m\n\u001b[1;32m    170\u001b[0m                 \u001b[0mservice_args\u001b[0m\u001b[0;34m=\u001b[0m\u001b[0mservice_args\u001b[0m\u001b[0;34m,\u001b[0m\u001b[0;34m\u001b[0m\u001b[0;34m\u001b[0m\u001b[0m\n\u001b[1;32m    171\u001b[0m                 log_path=service_log_path)\n\u001b[0;32m--> 172\u001b[0;31m         \u001b[0mself\u001b[0m\u001b[0;34m.\u001b[0m\u001b[0mservice\u001b[0m\u001b[0;34m.\u001b[0m\u001b[0mstart\u001b[0m\u001b[0;34m(\u001b[0m\u001b[0;34m)\u001b[0m\u001b[0;34m\u001b[0m\u001b[0;34m\u001b[0m\u001b[0m\n\u001b[0m\u001b[1;32m    173\u001b[0m \u001b[0;34m\u001b[0m\u001b[0m\n\u001b[1;32m    174\u001b[0m         executor = FirefoxRemoteConnection(\n",
      "\u001b[0;32m~/.pyenv/versions/3.8.12/envs/lewagon/lib/python3.8/site-packages/selenium/webdriver/common/service.py\u001b[0m in \u001b[0;36mstart\u001b[0;34m(self)\u001b[0m\n\u001b[1;32m     79\u001b[0m         \u001b[0;32mexcept\u001b[0m \u001b[0mOSError\u001b[0m \u001b[0;32mas\u001b[0m \u001b[0merr\u001b[0m\u001b[0;34m:\u001b[0m\u001b[0;34m\u001b[0m\u001b[0;34m\u001b[0m\u001b[0m\n\u001b[1;32m     80\u001b[0m             \u001b[0;32mif\u001b[0m \u001b[0merr\u001b[0m\u001b[0;34m.\u001b[0m\u001b[0merrno\u001b[0m \u001b[0;34m==\u001b[0m \u001b[0merrno\u001b[0m\u001b[0;34m.\u001b[0m\u001b[0mENOENT\u001b[0m\u001b[0;34m:\u001b[0m\u001b[0;34m\u001b[0m\u001b[0;34m\u001b[0m\u001b[0m\n\u001b[0;32m---> 81\u001b[0;31m                 raise WebDriverException(\n\u001b[0m\u001b[1;32m     82\u001b[0m                     \"'{}' executable needs to be in PATH. {}\".format(\n\u001b[1;32m     83\u001b[0m                         os.path.basename(self.path), self.start_error_message)\n",
      "\u001b[0;31mWebDriverException\u001b[0m: Message: 'geckodriver' executable needs to be in PATH. \n"
     ]
    }
   ],
   "source": [
    "#Import neccesary libraries\n",
    "\n",
    "import pandas as pd\n",
    "import time\n",
    "from selenium import webdriver\n",
    "from bs4 import BeautifulSoup\n",
    "\n",
    "#intiate the firefox webdriver instance\n",
    "\n",
    "driver=webdriver.Firefox()\n",
    "\n",
    "#enter the filename\n",
    "\n",
    "print(\"Enter the filename\")\n",
    "filename=str(input())\n",
    "\n",
    "#enter the link of starting google map page to scrap\n",
    "\n",
    "print(\"Enter the link of google map to scrap\")\n",
    "url=str(input())\n",
    "driver.get(url)\n",
    "time.sleep(3)\n",
    "record=[]\n",
    "for i in range(8):\n",
    "    try:\n",
    "        page=driver.find_element_by_link_text(str(i+2))\n",
    "        driver.set_page_load_timeout(30)\n",
    "        driver.implicitly_wait(50)\n",
    "        page.click()\n",
    "        time.sleep(3)\n",
    "        r=driver.page_source\n",
    "#Beautiful soup for scraping the html source\n",
    "        soup=BeautifulSoup(r,'html.parser')\n",
    "        list= soup.find_all('div',{\"class\":\"cXedhc\"})\n",
    "        for l in list:\n",
    "            name=l.find('div').text\n",
    "            detail=l.find_all('span')\n",
    "            details=detail[0].text.replace('0','/0')\n",
    "            record.append((name,details))\n",
    "        df=pd.DataFrame(record,columns=['name','details'])\n",
    "        df.to_csv(filename,index=False,encoding='utf-8')        \n",
    "   \n",
    "          \n",
    "\n",
    "        \n",
    "    except:\n",
    "        driver.implicitly_wait(50)\n",
    "        print(\"error at\")\n",
    "    "
   ]
  },
  {
   "cell_type": "markdown",
   "id": "f6759824",
   "metadata": {},
   "source": [
    "# YouTube"
   ]
  },
  {
   "cell_type": "code",
   "execution_count": 1,
   "id": "21853f12",
   "metadata": {},
   "outputs": [],
   "source": [
    "from apiclient.discovery import build\n",
    "\n",
    "def build_service(filename):\n",
    "    with open(filename) as f:\n",
    "        key = f.readline()\n",
    "\n",
    "    YOUTUBE_API_SERVICE_NAME = \"youtube\"\n",
    "    YOUTUBE_API_VERSION = \"v3\"\n",
    "    return build(YOUTUBE_API_SERVICE_NAME,\n",
    "                 YOUTUBE_API_VERSION,\n",
    "                 developerKey=key)"
   ]
  },
  {
   "cell_type": "code",
   "execution_count": 2,
   "id": "ae77b240",
   "metadata": {},
   "outputs": [],
   "source": [
    "# you only need to build the service once\n",
    "service = build_service('../Scrapping-Google/api_key.json') \n",
    "response = service.commentThreads().list(\n",
    "        part='snippet',\n",
    "        maxResults=100,\n",
    "        textFormat='plainText',\n",
    "        order='time',\n",
    "        videoId='ioNng23DkIM'\n",
    ").execute()"
   ]
  },
  {
   "cell_type": "code",
   "execution_count": 3,
   "id": "3c19c0a2",
   "metadata": {},
   "outputs": [],
   "source": [
    "from urllib.parse import urlparse, parse_qs\n",
    "\n",
    "def get_id(url):\n",
    "    u_pars = urlparse(url)\n",
    "    quer_v = parse_qs(u_pars.query).get('v')\n",
    "    if quer_v:\n",
    "        return quer_v[0]\n",
    "    pth = u_pars.path.split('/')\n",
    "    if pth:\n",
    "        return pth[-1]"
   ]
  },
  {
   "cell_type": "code",
   "execution_count": 4,
   "id": "33db9f1b",
   "metadata": {},
   "outputs": [],
   "source": [
    "url = 'https://www.youtube.com/watch?v=X9VXONMv7OM'"
   ]
  },
  {
   "cell_type": "code",
   "execution_count": 5,
   "id": "9aa00f08",
   "metadata": {
    "scrolled": true
   },
   "outputs": [
    {
     "data": {
      "text/plain": [
       "'X9VXONMv7OM'"
      ]
     },
     "execution_count": 5,
     "metadata": {},
     "output_type": "execute_result"
    }
   ],
   "source": [
    "get_id(url)"
   ]
  },
  {
   "cell_type": "code",
   "execution_count": 6,
   "id": "8e33fdb0",
   "metadata": {},
   "outputs": [],
   "source": [
    "import json\n",
    "from csv import writer\n",
    "from apiclient.discovery import build\n",
    "\n",
    "#2 configure function parameters for required variables to pass to service\n",
    "def get_comments(part='snippet', \n",
    "                 maxResults=400, \n",
    "                 textFormat='plainText',\n",
    "                 order='time',\n",
    "                 videoId='X9VXONMv7OM',\n",
    "                 csv_filename=\"blackpink\"):\n",
    "\n",
    "    #3 create empty lists to store desired information\n",
    "    comments, commentsId, repliesCount, likesCount, viewerRating = [], [], [], [], []\n",
    "       \n",
    "    # build our service from path/to/apikey\n",
    "    service = build_service('../Scrapping-Google/api_key.json')\n",
    "    \n",
    "    #4 make an API call using our service\n",
    "    response = service.commentThreads().list(\n",
    "        part=part,\n",
    "        maxResults=maxResults,\n",
    "        textFormat=textFormat,\n",
    "        order=order,\n",
    "        videoId=videoId\n",
    "    ).execute()\n",
    "                 \n",
    "\n",
    "    while response: # this loop will continue to run until you max out your quota\n",
    "                 \n",
    "        for item in response['items']:\n",
    "            #5 index item for desired data features\n",
    "            comment = item['snippet']['topLevelComment']['snippet']['textDisplay']\n",
    "            comment_id = item['snippet']['topLevelComment']['id']\n",
    "            reply_count = item['snippet']['totalReplyCount']\n",
    "            like_count = item['snippet']['topLevelComment']['snippet']['likeCount']\n",
    "            \n",
    "            #6 append to lists\n",
    "            comments.append(comment)\n",
    "            commentsId.append(comment_id)\n",
    "            repliesCount.append(reply_count)\n",
    "            likesCount.append(like_count)\n",
    "\n",
    "            #7 write line by line\n",
    "            with open(f'{csv_filename}.csv', 'a+') as f:\n",
    "                # https://thispointer.com/python-how-to-append-a-new-row-to-an-existing-csv-file/#:~:text=Open%20our%20csv%20file%20in,in%20the%20associated%20csv%20file\n",
    "                csv_writer = writer(f)\n",
    "                csv_writer.writerow([comment, comment_id, reply_count, like_count])\n",
    "        \n",
    "        #8 check for nextPageToken, and if it exists, set response equal to the JSON response\n",
    "        if 'nextPageToken' in response:\n",
    "            response = service.commentThreads().list(\n",
    "                part=part,\n",
    "                maxResults=maxResults,\n",
    "                textFormat=textFormat,\n",
    "                order=order,\n",
    "                videoId=videoId,\n",
    "                pageToken=response['nextPageToken']\n",
    "            ).execute()\n",
    "        else:\n",
    "            break\n",
    "\n",
    "    #9 return our data of interest\n",
    "    return {\n",
    "        'Comments': comments,\n",
    "        'Comment ID': commentsId,\n",
    "        'Reply Count' : repliesCount,\n",
    "        'Like Count' : likesCount\n",
    "    }"
   ]
  },
  {
   "cell_type": "code",
   "execution_count": 7,
   "id": "b2a292e6",
   "metadata": {},
   "outputs": [
    {
     "data": {
      "text/plain": [
       "dict_keys(['Comments', 'Comment ID', 'Reply Count', 'Like Count'])"
      ]
     },
     "execution_count": 7,
     "metadata": {},
     "output_type": "execute_result"
    }
   ],
   "source": [
    "json = get_comments(part='snippet', \n",
    "                 maxResults=400, \n",
    "                 textFormat='plainText',\n",
    "                 order='time',\n",
    "                 videoId='X9VXONMv7OM',\n",
    "                 csv_filename=\"blackpink\")\n",
    "\n",
    "json.keys()"
   ]
  },
  {
   "cell_type": "markdown",
   "id": "5c451a96",
   "metadata": {},
   "source": [
    "## Auto Locks | Ford How-To | Ford"
   ]
  },
  {
   "cell_type": "code",
   "execution_count": 9,
   "id": "2536c7e9",
   "metadata": {
    "scrolled": true
   },
   "outputs": [
    {
     "data": {
      "text/html": [
       "<div>\n",
       "<style scoped>\n",
       "    .dataframe tbody tr th:only-of-type {\n",
       "        vertical-align: middle;\n",
       "    }\n",
       "\n",
       "    .dataframe tbody tr th {\n",
       "        vertical-align: top;\n",
       "    }\n",
       "\n",
       "    .dataframe thead th {\n",
       "        text-align: right;\n",
       "    }\n",
       "</style>\n",
       "<table border=\"1\" class=\"dataframe\">\n",
       "  <thead>\n",
       "    <tr style=\"text-align: right;\">\n",
       "      <th></th>\n",
       "      <th>Comments</th>\n",
       "      <th>Comment ID</th>\n",
       "      <th>Reply Count</th>\n",
       "      <th>Like Count</th>\n",
       "    </tr>\n",
       "  </thead>\n",
       "  <tbody>\n",
       "    <tr>\n",
       "      <th>0</th>\n",
       "      <td>Been wondering about my Ford Explorer 2018. I ...</td>\n",
       "      <td>UgwMvD2MQKmbwEPu1a14AaABAg</td>\n",
       "      <td>0</td>\n",
       "      <td>0</td>\n",
       "    </tr>\n",
       "    <tr>\n",
       "      <th>1</th>\n",
       "      <td>I followed the directions explicity. I can not...</td>\n",
       "      <td>Ugx-0z6-4W25Q_AC29Z4AaABAg</td>\n",
       "      <td>0</td>\n",
       "      <td>0</td>\n",
       "    </tr>\n",
       "    <tr>\n",
       "      <th>2</th>\n",
       "      <td>Not work on 18 fusion hybrid</td>\n",
       "      <td>Ugw7726bwidMvRLcrhR4AaABAg</td>\n",
       "      <td>0</td>\n",
       "      <td>0</td>\n",
       "    </tr>\n",
       "    <tr>\n",
       "      <th>3</th>\n",
       "      <td>I have a 22 Puma, can't get it to work 😔</td>\n",
       "      <td>UgxKeATRNSO49NUITwJ4AaABAg</td>\n",
       "      <td>0</td>\n",
       "      <td>0</td>\n",
       "    </tr>\n",
       "    <tr>\n",
       "      <th>4</th>\n",
       "      <td>When you enter the second code, the fight give...</td>\n",
       "      <td>UgxSB07GqbUtauZUyDh4AaABAg</td>\n",
       "      <td>0</td>\n",
       "      <td>0</td>\n",
       "    </tr>\n",
       "    <tr>\n",
       "      <th>...</th>\n",
       "      <td>...</td>\n",
       "      <td>...</td>\n",
       "      <td>...</td>\n",
       "      <td>...</td>\n",
       "    </tr>\n",
       "    <tr>\n",
       "      <th>198</th>\n",
       "      <td>Hi Ford, will this work on a UK MkIII Focus?</td>\n",
       "      <td>Ugy_P-yCjuGpVCrYKPl4AaABAg</td>\n",
       "      <td>0</td>\n",
       "      <td>4</td>\n",
       "    </tr>\n",
       "    <tr>\n",
       "      <th>199</th>\n",
       "      <td>Doesn't work on my european 2015 Ford Mondeo</td>\n",
       "      <td>UghG1ThSfTsG33gCoAEC</td>\n",
       "      <td>0</td>\n",
       "      <td>4</td>\n",
       "    </tr>\n",
       "    <tr>\n",
       "      <th>200</th>\n",
       "      <td>You cannot disable Autolock on a 2017 Ford Esc...</td>\n",
       "      <td>UgiAgSw0PvlxDXgCoAEC</td>\n",
       "      <td>0</td>\n",
       "      <td>0</td>\n",
       "    </tr>\n",
       "    <tr>\n",
       "      <th>201</th>\n",
       "      <td>Thanks, I needed this. I have 2010 Ford Escape...</td>\n",
       "      <td>UggJ1hNqhperC3gCoAEC</td>\n",
       "      <td>3</td>\n",
       "      <td>9</td>\n",
       "    </tr>\n",
       "    <tr>\n",
       "      <th>202</th>\n",
       "      <td>Our raptor does that \\n\\nIt's a little odd but...</td>\n",
       "      <td>UggMvVk6Fw0x3XgCoAEC</td>\n",
       "      <td>14</td>\n",
       "      <td>4</td>\n",
       "    </tr>\n",
       "  </tbody>\n",
       "</table>\n",
       "<p>203 rows × 4 columns</p>\n",
       "</div>"
      ],
      "text/plain": [
       "                                              Comments  \\\n",
       "0    Been wondering about my Ford Explorer 2018. I ...   \n",
       "1    I followed the directions explicity. I can not...   \n",
       "2                         Not work on 18 fusion hybrid   \n",
       "3             I have a 22 Puma, can't get it to work 😔   \n",
       "4    When you enter the second code, the fight give...   \n",
       "..                                                 ...   \n",
       "198       Hi Ford, will this work on a UK MkIII Focus?   \n",
       "199       Doesn't work on my european 2015 Ford Mondeo   \n",
       "200  You cannot disable Autolock on a 2017 Ford Esc...   \n",
       "201  Thanks, I needed this. I have 2010 Ford Escape...   \n",
       "202  Our raptor does that \\n\\nIt's a little odd but...   \n",
       "\n",
       "                     Comment ID  Reply Count  Like Count  \n",
       "0    UgwMvD2MQKmbwEPu1a14AaABAg            0           0  \n",
       "1    Ugx-0z6-4W25Q_AC29Z4AaABAg            0           0  \n",
       "2    Ugw7726bwidMvRLcrhR4AaABAg            0           0  \n",
       "3    UgxKeATRNSO49NUITwJ4AaABAg            0           0  \n",
       "4    UgxSB07GqbUtauZUyDh4AaABAg            0           0  \n",
       "..                          ...          ...         ...  \n",
       "198  Ugy_P-yCjuGpVCrYKPl4AaABAg            0           4  \n",
       "199        UghG1ThSfTsG33gCoAEC            0           4  \n",
       "200        UgiAgSw0PvlxDXgCoAEC            0           0  \n",
       "201        UggJ1hNqhperC3gCoAEC            3           9  \n",
       "202        UggMvVk6Fw0x3XgCoAEC           14           4  \n",
       "\n",
       "[203 rows x 4 columns]"
      ]
     },
     "execution_count": 9,
     "metadata": {},
     "output_type": "execute_result"
    }
   ],
   "source": [
    "import pandas as pd \n",
    "\n",
    "df = pd.DataFrame.from_dict(json)\n",
    "\n",
    "df"
   ]
  },
  {
   "cell_type": "code",
   "execution_count": 10,
   "id": "308db44e",
   "metadata": {},
   "outputs": [
    {
     "data": {
      "text/plain": [
       "142"
      ]
     },
     "execution_count": 10,
     "metadata": {},
     "output_type": "execute_result"
    }
   ],
   "source": [
    "df['Reply Count'].sum()"
   ]
  },
  {
   "cell_type": "markdown",
   "id": "b5ea8f74",
   "metadata": {},
   "source": [
    "## Ford's Quickclear Windscreen Technology"
   ]
  },
  {
   "cell_type": "code",
   "execution_count": 11,
   "id": "a978f8ab",
   "metadata": {},
   "outputs": [
    {
     "data": {
      "text/html": [
       "<div>\n",
       "<style scoped>\n",
       "    .dataframe tbody tr th:only-of-type {\n",
       "        vertical-align: middle;\n",
       "    }\n",
       "\n",
       "    .dataframe tbody tr th {\n",
       "        vertical-align: top;\n",
       "    }\n",
       "\n",
       "    .dataframe thead th {\n",
       "        text-align: right;\n",
       "    }\n",
       "</style>\n",
       "<table border=\"1\" class=\"dataframe\">\n",
       "  <thead>\n",
       "    <tr style=\"text-align: right;\">\n",
       "      <th></th>\n",
       "      <th>Comments</th>\n",
       "      <th>Comment ID</th>\n",
       "      <th>Reply Count</th>\n",
       "      <th>Like Count</th>\n",
       "    </tr>\n",
       "  </thead>\n",
       "  <tbody>\n",
       "    <tr>\n",
       "      <th>0</th>\n",
       "      <td>Five whole minutes to scrape away some ice 😂 t...</td>\n",
       "      <td>UgxfCOZUoT7ZGmz11_Z4AaABAg</td>\n",
       "      <td>0</td>\n",
       "      <td>0</td>\n",
       "    </tr>\n",
       "    <tr>\n",
       "      <th>1</th>\n",
       "      <td>Amazing that it has been around 26 years (Or i...</td>\n",
       "      <td>UgzReXT7GnrqsAgPpdF4AaABAg</td>\n",
       "      <td>1</td>\n",
       "      <td>0</td>\n",
       "    </tr>\n",
       "    <tr>\n",
       "      <th>2</th>\n",
       "      <td>Shame that the car refuses to let the heated s...</td>\n",
       "      <td>Ugy-djFZWilanuW7LCd4AaABAg</td>\n",
       "      <td>5</td>\n",
       "      <td>0</td>\n",
       "    </tr>\n",
       "    <tr>\n",
       "      <th>3</th>\n",
       "      <td>I love it in the morning when my wifes car is ...</td>\n",
       "      <td>Ugx3SPLgBDe3ODmAyaZ4AaABAg</td>\n",
       "      <td>0</td>\n",
       "      <td>0</td>\n",
       "    </tr>\n",
       "    <tr>\n",
       "      <th>4</th>\n",
       "      <td>2:04 that dog has seen terrible things and suf...</td>\n",
       "      <td>UgwnkYubFlQzOhmA5194AaABAg</td>\n",
       "      <td>0</td>\n",
       "      <td>0</td>\n",
       "    </tr>\n",
       "    <tr>\n",
       "      <th>...</th>\n",
       "      <td>...</td>\n",
       "      <td>...</td>\n",
       "      <td>...</td>\n",
       "      <td>...</td>\n",
       "    </tr>\n",
       "    <tr>\n",
       "      <th>184</th>\n",
       "      <td>What breed of dog is that?</td>\n",
       "      <td>Ugxnk69n6QO9lX9gDt94AaABAg</td>\n",
       "      <td>0</td>\n",
       "      <td>0</td>\n",
       "    </tr>\n",
       "    <tr>\n",
       "      <th>185</th>\n",
       "      <td>Can't live without that feature. Shame for oth...</td>\n",
       "      <td>Ugy-oEZ-Bx4uJlFOhZ54AaABAg</td>\n",
       "      <td>0</td>\n",
       "      <td>0</td>\n",
       "    </tr>\n",
       "    <tr>\n",
       "      <th>186</th>\n",
       "      <td>I live in a fairly cold valley near a mill pon...</td>\n",
       "      <td>UgykRcOUV-BqJ_hCdDV4AaABAg</td>\n",
       "      <td>0</td>\n",
       "      <td>0</td>\n",
       "    </tr>\n",
       "    <tr>\n",
       "      <th>187</th>\n",
       "      <td>We have this on our S-Max, its very handy up h...</td>\n",
       "      <td>UgyRIIF1PK80FdgYnH94AaABAg</td>\n",
       "      <td>0</td>\n",
       "      <td>2</td>\n",
       "    </tr>\n",
       "    <tr>\n",
       "      <th>188</th>\n",
       "      <td>A technology not worth mentioning tbh. Not to ...</td>\n",
       "      <td>UgzqAopudemtosUM-NZ4AaABAg</td>\n",
       "      <td>0</td>\n",
       "      <td>0</td>\n",
       "    </tr>\n",
       "  </tbody>\n",
       "</table>\n",
       "<p>189 rows × 4 columns</p>\n",
       "</div>"
      ],
      "text/plain": [
       "                                              Comments  \\\n",
       "0    Five whole minutes to scrape away some ice 😂 t...   \n",
       "1    Amazing that it has been around 26 years (Or i...   \n",
       "2    Shame that the car refuses to let the heated s...   \n",
       "3    I love it in the morning when my wifes car is ...   \n",
       "4    2:04 that dog has seen terrible things and suf...   \n",
       "..                                                 ...   \n",
       "184                         What breed of dog is that?   \n",
       "185  Can't live without that feature. Shame for oth...   \n",
       "186  I live in a fairly cold valley near a mill pon...   \n",
       "187  We have this on our S-Max, its very handy up h...   \n",
       "188  A technology not worth mentioning tbh. Not to ...   \n",
       "\n",
       "                     Comment ID  Reply Count  Like Count  \n",
       "0    UgxfCOZUoT7ZGmz11_Z4AaABAg            0           0  \n",
       "1    UgzReXT7GnrqsAgPpdF4AaABAg            1           0  \n",
       "2    Ugy-djFZWilanuW7LCd4AaABAg            5           0  \n",
       "3    Ugx3SPLgBDe3ODmAyaZ4AaABAg            0           0  \n",
       "4    UgwnkYubFlQzOhmA5194AaABAg            0           0  \n",
       "..                          ...          ...         ...  \n",
       "184  Ugxnk69n6QO9lX9gDt94AaABAg            0           0  \n",
       "185  Ugy-oEZ-Bx4uJlFOhZ54AaABAg            0           0  \n",
       "186  UgykRcOUV-BqJ_hCdDV4AaABAg            0           0  \n",
       "187  UgyRIIF1PK80FdgYnH94AaABAg            0           2  \n",
       "188  UgzqAopudemtosUM-NZ4AaABAg            0           0  \n",
       "\n",
       "[189 rows x 4 columns]"
      ]
     },
     "execution_count": 11,
     "metadata": {},
     "output_type": "execute_result"
    }
   ],
   "source": [
    "json = get_comments(part='snippet', \n",
    "                 maxResults=400, \n",
    "                 textFormat='plainText',\n",
    "                 order='time',\n",
    "                 videoId='BmpROemcd4E',\n",
    "                 csv_filename=\"blackpink\")\n",
    "\n",
    "df = pd.DataFrame.from_dict(json)\n",
    "df"
   ]
  },
  {
   "cell_type": "code",
   "execution_count": 12,
   "id": "d787e03e",
   "metadata": {},
   "outputs": [
    {
     "data": {
      "text/plain": [
       "107"
      ]
     },
     "execution_count": 12,
     "metadata": {},
     "output_type": "execute_result"
    }
   ],
   "source": [
    "df['Reply Count'].sum()"
   ]
  },
  {
   "cell_type": "code",
   "execution_count": null,
   "id": "7a31025c",
   "metadata": {},
   "outputs": [],
   "source": []
  }
 ],
 "metadata": {
  "kernelspec": {
   "display_name": "Python 3 (ipykernel)",
   "language": "python",
   "name": "python3"
  },
  "language_info": {
   "codemirror_mode": {
    "name": "ipython",
    "version": 3
   },
   "file_extension": ".py",
   "mimetype": "text/x-python",
   "name": "python",
   "nbconvert_exporter": "python",
   "pygments_lexer": "ipython3",
   "version": "3.8.12"
  },
  "toc": {
   "base_numbering": 1,
   "nav_menu": {},
   "number_sections": true,
   "sideBar": true,
   "skip_h1_title": false,
   "title_cell": "Table of Contents",
   "title_sidebar": "Contents",
   "toc_cell": false,
   "toc_position": {},
   "toc_section_display": true,
   "toc_window_display": false
  }
 },
 "nbformat": 4,
 "nbformat_minor": 5
}
